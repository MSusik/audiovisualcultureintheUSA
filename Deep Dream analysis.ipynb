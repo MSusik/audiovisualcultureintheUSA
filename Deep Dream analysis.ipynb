{
 "cells": [
  {
   "cell_type": "markdown",
   "metadata": {},
   "source": [
    "My project for \"Audiovisual Culture in the USA\" classes."
   ]
  },
  {
   "cell_type": "markdown",
   "metadata": {},
   "source": [
    "## Deep Dream and its connection to mass culture"
   ]
  },
  {
   "cell_type": "markdown",
   "metadata": {},
   "source": [
    "In the recent years we were witnesses of a revolution in the domain of machine learning. Before any technical details, we want to show examples of some milestones that seemed to be unreachable ten years ago. The state-of-the-art techniques can nowadays automatize many tasks requiring deeper understanding of the problem. They are able to:\n",
    "\n",
    "+ [Colour black and white images](http://richzhang.github.io/colorization/)\n",
    "+ [Imitate a sound made by a wooden stick given a video](http://vis.csail.mit.edu)\n",
    "+ [Translate text](https://research.googleblog.com/2016/09/a-neural-network-for-machine.html)\n",
    "+ [Detect and classify objects on a picture](https://arxiv.org/pdf/1506.01497.pdf)\n",
    "+ [Generate handwriting (and given a large enough sample imitate one's style)](http://www.cs.toronto.edu/~graves/handwriting.html)\n",
    "+ [Generate music](http://www.asimovinstitute.org/analyzing-deep-learning-tools-music/)\n",
    "+ [Caption videos](https://arxiv.org/pdf/1505.00487v3.pdf)\n",
    "+ [Play complicated games](https://www.youtube.com/watch?v=53YLZBSS0cc)\n",
    "+ [And my favourite: Generate images that are hard to discriminate from the provided ones](https://github.com/Newmu/dcgan_code)"
   ]
  },
  {
   "cell_type": "markdown",
   "metadata": {},
   "source": [
    "### A bit of theory"
   ]
  },
  {
   "cell_type": "markdown",
   "metadata": {},
   "source": [
    "If you thought maths was boring back in the high school, simply skip this section.\n",
    "\n",
    "In order to understand what Deep Dream does, it's worth to know what it is. If you've ever used any filters while you were taking photos with your smartphone, you will get the feeling. Deep Dream can be thought of as a filter,  a function that given an image generates an image with a style applied to it. Still, Deep Dream is a bit more complicated than a simple sepia filter. And it generate its own images without an input.\n",
    "\n",
    "Let's quickly and not precisely explain what an artificial neural network is and how it can apply a style to a picture. Let's think about our brain. It consists of neurons that create a very large network. See the picture below:\n",
    "\n",
    "![hm](https://upload.wikimedia.org/wikipedia/commons/thumb/0/08/Neuron%2C_LangNeutral.svg/400px-Neuron%2C_LangNeutral.svg.png)\n",
    "\n",
    "A single neuron is electrically excitable. It means that it can receive electric signals coming from other neurons through dendrites ((a)), process it, and if the incoming signals were strong enough, pass information to the next neurons using its axon ((d) to (h)). Although a single neuron is not a powerful tool, billions of them give humans quite strong perception skills.\n",
    "\n",
    "A mathematical model for a neuron is inspired by its biological counterpart. It is a linear combination of its inputs. The output of a neuron is:\n",
    "\n",
    "![]()\n",
    "\n",
    "where:\n",
    "\n",
    "+ x[j] is the input coming from another neuron (or a sample)\n",
    "+ w\\[k\\][j] are the weights learnt during the training procedure\n",
    "+ phi is the activation function - for example a [ReLU](http://en.wikipedia.nom.si/wiki/ReLU)\n",
    "\n",
    "An artificial neural network is simply a combination of neurons that makes it possible to learn a specific task. The neurons are usually organized in layers. Outputs of layers are passed to the next layer, their inputs come from the previous layer. The first layer of a network is the input data. The task Deep Dream network was initially solving was the task of image classification. In this case the input layer is an image and the output layer consists of many neurons, each representing a category. Although a single neuron can represent only linear functions, a large network can infer meaningful non-linear dependencies.\n",
    "\n",
    "![a](http://www.texample.net/media/tikz/examples/PNG/neural-network.png)\n",
    "\n",
    "What such neural network receives when it is asked to classify an image is a vectorized representation of it. That is, it consists only of numbers. Initially, before the training procedure, the weights are set to random numbers. Then, a networks is trained iteratively on a set of correctly labeled images. In a simplified case, each iteration consists of two steps:\n",
    "\n",
    "+ Forward propagation - The signal is passed forward from the input layer (an image) to the output (the categories) layer. As the result of this procedure the output of the output layer is stored.\n",
    "+ Back propagation - The output is compared with the correct category (usually a vector in form of [0,0,...,1,..,0], the difference between vectors is computed and propagated back (multiplied by the weights). Every neuron can accordingly to the signal received update its weights and thus improve the prediction of the network in the next iteration.\n",
    "\n",
    "[A bit more detailed description is available here](https://mattmazur.com/2015/03/17/a-step-by-step-backpropagation-example/). An interesting fact has been observed. Starting from the first hidden layer after the input layer, the layers represent more and more [complicated structures](http://yosinski.com/deepvis). The idea behind the Deep Dream is to use a trained network (a one that classifies images well) feed it with a new image and then, while forward propagation is performed:\n",
    "\n",
    "+ Stop at one specific layer\n",
    "+ Enhance the signal\n",
    "+ Propagate it from this layer back\n",
    "\n",
    "Such procedure applies the features discovered by the chosen layer to the image. For example ([source](https://research.googleblog.com/2015/06/inceptionism-going-deeper-into-neural.html)):\n",
    "\n",
    "![b](https://3.bp.blogspot.com/-4Uj3hPFupok/VYIT6s_c9OI/AAAAAAAAAlc/_yGdbbsmGiw/s640/ibis.png)\n",
    "\n",
    "This is how Deep Dream does filtering stuff. What about generating brand new images?\n",
    "\n",
    "Well, instead of providing the network with an image, we can provide it with random noise.\n",
    "\n",
    "![c](http://farm4.static.flickr.com/3368/3313647292_0dd0a97901.jpg)\n",
    "\n",
    "Then, instead of doing the mentioned filtering procedure once, we can apply it multiple times. After each application, the image is cropped to a smaller size and then zoomed in.\n",
    "\n",
    "The results are quite convincing ([source](https://research.googleblog.com/2015/06/inceptionism-going-deeper-into-neural.html)):\n",
    "\n",
    "![d](https://1.bp.blogspot.com/-XZ0i0zXOhQk/VYIXdyIL9kI/AAAAAAAAAmQ/UbA6j41w28o/s640/building-dreams.png)\n"
   ]
  },
  {
   "cell_type": "markdown",
   "metadata": {},
   "source": [
    "### Analysis\n",
    "\n",
    "Ok, so now that we know that an artificial neural network can generate random art, we will focus on a single image. This will be probably the first such analysis. Our choice of the material is:\n",
    "![e](http://d.ibtimes.co.uk/en/full/1445366/psychedelic-images-generated-by-googles-neural-network.jpg)"
   ]
  },
  {
   "cell_type": "markdown",
   "metadata": {},
   "source": [
    "The image has been generated in 2016 by the neural network implemented by the team led by Christian Szegedy.\n",
    "\n",
    "So, what do we see here? Probably some good drugs. Few icebergs, a lot of aqueducts/bridges and mountains, Japanese and Indian temples, a fountain or two. If somebody is more imaginative, maybe some buses, trains, a soccer stadium on the bottom.\n",
    "\n",
    "The whole structure of the image resembles some of the artworks created in the late 60s early 70s: a lot of psychedelia, rainbow colours, and a sense of randomness and disorder can be seen on the cover of Disraeli Gears album by British blues-rock ban The Cream: ![cream](http://2.bp.blogspot.com/-HIgGLSidN4w/UtGsXQIIq1I/AAAAAAAAALs/qHD8k9W5_lQ/s1600/cream-gears.jpg) Especially, the opening song Strange Brew from this album suits the picture generated by the Deep Dream. The cover does not have a logical structure, the heads of the Clapton, Bruce and Baker levitate over the inscription built on top of Roman columns. As majority of people did not do heavy drugs in their lives, the drug feel of the image is generated only by the intertextual connections. The people who look at the Deep Dream's image link it with the drug effects only because of other texts that mentioned the issue. This situation is misleading as a neural network probably can not feel the effects of cocaine. Well, one could spray crack over the graphic card where the computations are done, but I doubt it would change the results. What we have here is a good example of an audience that is passive and accepts one interpretation.\n",
    "\n",
    "Following the British path, the surrealism of random combinations of items is present in the movies too. A famous example is the Monty Python and the Flying Circus: ![monty](http://2.bp.blogspot.com/-E4nwg2mC3zA/U9OTljtFYkI/AAAAAAAAA18/t1ZK5GmxdU8/s1600/Foot.jpg) Even without seeing the scene, this random single frame presents enough features to see the connection between the Deep Dream and the movie. The utter nonsense is shared by both texts.\n",
    "\n",
    "If we take a more structural look, we can notice that the image generated by the Deep Dream is not limited from the top. Such technique is often used to present heaven in the animated movies. An example will come one more time from Monty Python. This time, a screen from Holy Grail movie: ![monty2](http://blogs-images.forbes.com/erikkain/files/2012/05/holy-grail-quests.jpg) Notice that the image concentrates on the area between the clouds. On the image generated by Deep Dream at the first glance the green fields in the middle catch the viewer's eye. And similarly, they are surrounded, in this case by \"mountains\". The absence of sky makes the audience think that the depicted surroundings are located in the netherworld.\n",
    "\n",
    "However, there are exceptions, and the view without the sky can symbolize other ideas. The ending of the Interstellar movie contains a scene where the main hero awakes from a coma on the Copper Station. The station resembles a planet, but the people live within the tube. Check the video:[![ScreenShot](http://hagglefurniture.com.au/wp-content/uploads/2015/05/video-placeholder.jpg)](https://www.youtube.com/watch?v=LRT0GGTWYnM) The abstract environment usually brings the message of a distant place that is not easy to reach from Earth.\n",
    "\n",
    "If we take a closer look at the details, as a viewer, we might recognize symbols that appeared in the famous texts. Obviously the connection is not intended, a neural network does not have self-awareness, but a reader might make conclusions.\n",
    "\n",
    "See that bridge on the brink of the mountain? The train that passes the bridge? Such setting appeared in one classic western bringing two times a disaster to the main heroes. The movie I have in mind is Union Pacific directed in 1939 by  Cecil B. DeMille. The plot takes place in the western United States on the track of the newly built Union Pacific railroad. There are two times in the movie where the plot takes place on a bridge. The first scene shows an Indian ambush where they set the bridge on fire in order to rob a train with supplies. The second scene shows a pass of a train over a fresh bridge in a winter mountainous scenery. The bridge falls apart under the train and kills the father of the main female character. The audience is free to interpret the image generated by Deep Dream as, for example, a nightmare of one of the characters from Union Pacific."
   ]
  },
  {
   "cell_type": "markdown",
   "metadata": {},
   "source": [
    "### Fanbase?"
   ]
  },
  {
   "cell_type": "markdown",
   "metadata": {},
   "source": [
    "The filtering capabilities of Deep Dream were offered to a broader audience. Moreover, the paper that was published later noticed that it is possible to [apply a style of a single image to another by using similar techniques to the ones used in Deep Dream](https://arxiv.org/pdf/1508.06576v2.pdf). This resulted in web services that offer these algorithms to everybody with an Internet connection. An example is [Deepart](https://deepart.io). In the last months the community that appeared on the [reddit.com/r/DeepDream](https://reddit.com/r/DeepDream) exchanges interesting examples that were created using either Deep Dream or Deep Art.\n",
    "\n",
    "I will show here two example that illustrate the Internet phenomenon brought by the AI. The first one is truly the essence of an american TV show host Bob Ross. It was created using DeepArt-like software:\n",
    "\n",
    "![bobross](http://i.imgur.com/lH6zsxr.jpg)"
   ]
  },
  {
   "cell_type": "markdown",
   "metadata": {},
   "source": [
    "The second is an application of the DeepDream technique on the animated meme of \n",
    "[Hypnotoad](https://i.imgur.com/wMKirZD.gifv) from Futurama (follow the link). It is obvious that the mass audience is interested in the software and its functionalities.\n",
    "\n",
    "The popularity of the Deep Dream leads the way to new ways of creating algorithmic art. In future, a strong accent will be put on the usage of artificial intelligence in arts. Neural networks, with their ability to learn representations, offer \n",
    "    "
   ]
  },
  {
   "cell_type": "markdown",
   "metadata": {},
   "source": [
    "### Bibliography"
   ]
  },
  {
   "cell_type": "markdown",
   "metadata": {
    "collapsed": true
   },
   "source": [
    "+ Cream. _Disraeli Gears_, Polydor, 1967\n",
    "+ _Monty Python and the Holy Grail_. Directed by Terry Gilliam and Terry Jones, performances by John Cleese, Graham Chapman, Terry Gilliam, Eric Idle, Terry Jones and Michael Palin, 20th Century Fox, 1975\n",
    "+ _The Meaning of Life / Monty Python's The Meaning of Life_. Directed by Terry Jones, performances by Graham Chapman, John Cleese, Terry Gilliam, Eric Idle, Terry Jones and Michael Palin, Universal Pictures, 1983\n",
    "+ _Interstellar_. Directed by Christopher Nolan, performances by Matthew McConaughey, Anne Hathaway, Jessica Chastain, Bill Irwin, Ellen Burstyn and Michael Caine, Warner Bros. Pictures, 2015\n",
    "+ _Union Pacific_. Directed by Cecil B. DeMille. Performance by Barbara Stanwyck, Joel McCrea and Akim Tamiroff, Paramount Pictures, 1939\n",
    "+ _The Joy of Painting_. Performance by Bob Ross, PBS, WIPB, 1983 - 1994\n",
    "+ _Everybody Loves Hypnotoad_. Directed by The Hypnotode. Performance by The Hypnotode,  20th Century Fox Television, 2007"
   ]
  }
 ],
 "metadata": {
  "kernelspec": {
   "display_name": "Python 3",
   "language": "python",
   "name": "python3"
  },
  "language_info": {
   "codemirror_mode": {
    "name": "ipython",
    "version": 3
   },
   "file_extension": ".py",
   "mimetype": "text/x-python",
   "name": "python",
   "nbconvert_exporter": "python",
   "pygments_lexer": "ipython3",
   "version": "3.5.1+"
  }
 },
 "nbformat": 4,
 "nbformat_minor": 0
}
